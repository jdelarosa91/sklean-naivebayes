{
 "cells": [
  {
   "cell_type": "markdown",
   "metadata": {},
   "source": [
    "# Trabajo 1: Clasificación con Naive Bayes"
   ]
  },
  {
   "cell_type": "markdown",
   "metadata": {},
   "source": [
    "**Mediante este trabajo se pretende que pongas en práctica la creación de modelos basados en el clasificador Naive Bayes. El objetivo es que comprendas de forma práctica con un problema determinado los pasos que hay que realizar para construir un clasificador Naive Bayes que infiera la clase más probable de dos eventos.**"
   ]
  },
  {
   "cell_type": "markdown",
   "metadata": {},
   "source": [
    "## Importación de librerías"
   ]
  },
  {
   "cell_type": "markdown",
   "metadata": {},
   "source": [
    "En primer lugar, se importan las librerías necesarias para la realización de este trabajo.  \n",
    "En este caso, se utilizarán las siguientes librerías:\n",
    "* MatplotLib: Para la generación de gráficas (Curvas ROC, validación de los datos, etc)\n",
    "* Numpy: Para cálculos con datos y obtención de la matriz de confusión\n",
    "* Pandas: Para el procesamiento de la información\n",
    "* Scikit-learn: Para la aplicación de técnicas de machine learning\n"
   ]
  },
  {
   "cell_type": "code",
   "execution_count": 252,
   "metadata": {},
   "outputs": [],
   "source": [
    "import matplotlib.pyplot as plt\n",
    "import numpy as np\n",
    "import pandas as pd\n",
    "\n",
    "from sklearn.datasets import make_classification, load_breast_cancer\n",
    "from sklearn.feature_selection import RFECV\n",
    "from sklearn.metrics import roc_curve, auc\n",
    "from sklearn.model_selection import train_test_split, StratifiedKFold, cross_val_score, cross_val_predict\n",
    "from sklearn.naive_bayes import GaussianNB, BernoulliNB, MultinomialNB, ComplementNB\n",
    "from sklearn.impute import SimpleImputer\n",
    "from sklearn.svm import SVC"
   ]
  },
  {
   "cell_type": "markdown",
   "metadata": {},
   "source": [
    "## Carga de la información"
   ]
  },
  {
   "cell_type": "markdown",
   "metadata": {},
   "source": [
    "A continuación, se procede a cargar un set de datos. En este caso se utiliza un set de datos de prueba, *load_breast_cancer* , el cual es provisto por scikit learn.  \n",
    "De este se sacan sus dos componentes:  \n",
    "* _X = El vector de características\n",
    "* _y = La variable target o clase"
   ]
  },
  {
   "cell_type": "code",
   "execution_count": 265,
   "metadata": {},
   "outputs": [
    {
     "name": "stdout",
     "output_type": "stream",
     "text": [
      "El número de características es de: 16\n"
     ]
    },
    {
     "data": {
      "text/html": [
       "<div>\n",
       "<style scoped>\n",
       "    .dataframe tbody tr th:only-of-type {\n",
       "        vertical-align: middle;\n",
       "    }\n",
       "\n",
       "    .dataframe tbody tr th {\n",
       "        vertical-align: top;\n",
       "    }\n",
       "\n",
       "    .dataframe thead th {\n",
       "        text-align: right;\n",
       "    }\n",
       "</style>\n",
       "<table border=\"1\" class=\"dataframe\">\n",
       "  <thead>\n",
       "    <tr style=\"text-align: right;\">\n",
       "      <th></th>\n",
       "      <th>Class Name</th>\n",
       "      <th>handicapped-infants</th>\n",
       "      <th>water-project-cost-sharing</th>\n",
       "      <th>adoption-of-the-budget-resolution</th>\n",
       "      <th>physician-fee-freeze</th>\n",
       "      <th>el-salvador-aid</th>\n",
       "      <th>religious-groups-in-schools</th>\n",
       "      <th>anti-satellite-test-ban</th>\n",
       "      <th>aid-to-nicaraguan-contras</th>\n",
       "      <th>mx-missile</th>\n",
       "      <th>immigration</th>\n",
       "      <th>synfuels-corporation-cutback</th>\n",
       "      <th>education-spending</th>\n",
       "      <th>superfund-right-to-sue</th>\n",
       "      <th>crime</th>\n",
       "      <th>duty-free-exports</th>\n",
       "      <th>export-administration-act-south-africa</th>\n",
       "    </tr>\n",
       "  </thead>\n",
       "  <tbody>\n",
       "    <tr>\n",
       "      <th>0</th>\n",
       "      <td>republican</td>\n",
       "      <td>0.0</td>\n",
       "      <td>1.0</td>\n",
       "      <td>0.0</td>\n",
       "      <td>1.0</td>\n",
       "      <td>1.0</td>\n",
       "      <td>1.0</td>\n",
       "      <td>0.0</td>\n",
       "      <td>0.0</td>\n",
       "      <td>0.0</td>\n",
       "      <td>1.0</td>\n",
       "      <td>NaN</td>\n",
       "      <td>1.0</td>\n",
       "      <td>1.0</td>\n",
       "      <td>1.0</td>\n",
       "      <td>0.0</td>\n",
       "      <td>1.0</td>\n",
       "    </tr>\n",
       "    <tr>\n",
       "      <th>1</th>\n",
       "      <td>republican</td>\n",
       "      <td>0.0</td>\n",
       "      <td>1.0</td>\n",
       "      <td>0.0</td>\n",
       "      <td>1.0</td>\n",
       "      <td>1.0</td>\n",
       "      <td>1.0</td>\n",
       "      <td>0.0</td>\n",
       "      <td>0.0</td>\n",
       "      <td>0.0</td>\n",
       "      <td>0.0</td>\n",
       "      <td>0.0</td>\n",
       "      <td>1.0</td>\n",
       "      <td>1.0</td>\n",
       "      <td>1.0</td>\n",
       "      <td>0.0</td>\n",
       "      <td>NaN</td>\n",
       "    </tr>\n",
       "    <tr>\n",
       "      <th>2</th>\n",
       "      <td>democrat</td>\n",
       "      <td>NaN</td>\n",
       "      <td>1.0</td>\n",
       "      <td>1.0</td>\n",
       "      <td>NaN</td>\n",
       "      <td>1.0</td>\n",
       "      <td>1.0</td>\n",
       "      <td>0.0</td>\n",
       "      <td>0.0</td>\n",
       "      <td>0.0</td>\n",
       "      <td>0.0</td>\n",
       "      <td>1.0</td>\n",
       "      <td>0.0</td>\n",
       "      <td>1.0</td>\n",
       "      <td>1.0</td>\n",
       "      <td>0.0</td>\n",
       "      <td>0.0</td>\n",
       "    </tr>\n",
       "    <tr>\n",
       "      <th>3</th>\n",
       "      <td>democrat</td>\n",
       "      <td>0.0</td>\n",
       "      <td>1.0</td>\n",
       "      <td>1.0</td>\n",
       "      <td>0.0</td>\n",
       "      <td>NaN</td>\n",
       "      <td>1.0</td>\n",
       "      <td>0.0</td>\n",
       "      <td>0.0</td>\n",
       "      <td>0.0</td>\n",
       "      <td>0.0</td>\n",
       "      <td>1.0</td>\n",
       "      <td>0.0</td>\n",
       "      <td>1.0</td>\n",
       "      <td>0.0</td>\n",
       "      <td>0.0</td>\n",
       "      <td>1.0</td>\n",
       "    </tr>\n",
       "    <tr>\n",
       "      <th>4</th>\n",
       "      <td>democrat</td>\n",
       "      <td>1.0</td>\n",
       "      <td>1.0</td>\n",
       "      <td>1.0</td>\n",
       "      <td>0.0</td>\n",
       "      <td>1.0</td>\n",
       "      <td>1.0</td>\n",
       "      <td>0.0</td>\n",
       "      <td>0.0</td>\n",
       "      <td>0.0</td>\n",
       "      <td>0.0</td>\n",
       "      <td>1.0</td>\n",
       "      <td>NaN</td>\n",
       "      <td>1.0</td>\n",
       "      <td>1.0</td>\n",
       "      <td>1.0</td>\n",
       "      <td>1.0</td>\n",
       "    </tr>\n",
       "  </tbody>\n",
       "</table>\n",
       "</div>"
      ],
      "text/plain": [
       "   Class Name  handicapped-infants  water-project-cost-sharing  \\\n",
       "0  republican                  0.0                         1.0   \n",
       "1  republican                  0.0                         1.0   \n",
       "2    democrat                  NaN                         1.0   \n",
       "3    democrat                  0.0                         1.0   \n",
       "4    democrat                  1.0                         1.0   \n",
       "\n",
       "   adoption-of-the-budget-resolution  physician-fee-freeze  el-salvador-aid  \\\n",
       "0                                0.0                   1.0              1.0   \n",
       "1                                0.0                   1.0              1.0   \n",
       "2                                1.0                   NaN              1.0   \n",
       "3                                1.0                   0.0              NaN   \n",
       "4                                1.0                   0.0              1.0   \n",
       "\n",
       "   religious-groups-in-schools  anti-satellite-test-ban  \\\n",
       "0                          1.0                      0.0   \n",
       "1                          1.0                      0.0   \n",
       "2                          1.0                      0.0   \n",
       "3                          1.0                      0.0   \n",
       "4                          1.0                      0.0   \n",
       "\n",
       "   aid-to-nicaraguan-contras  mx-missile  immigration  \\\n",
       "0                        0.0         0.0          1.0   \n",
       "1                        0.0         0.0          0.0   \n",
       "2                        0.0         0.0          0.0   \n",
       "3                        0.0         0.0          0.0   \n",
       "4                        0.0         0.0          0.0   \n",
       "\n",
       "   synfuels-corporation-cutback  education-spending  superfund-right-to-sue  \\\n",
       "0                           NaN                 1.0                     1.0   \n",
       "1                           0.0                 1.0                     1.0   \n",
       "2                           1.0                 0.0                     1.0   \n",
       "3                           1.0                 0.0                     1.0   \n",
       "4                           1.0                 NaN                     1.0   \n",
       "\n",
       "   crime  duty-free-exports  export-administration-act-south-africa  \n",
       "0    1.0                0.0                                     1.0  \n",
       "1    1.0                0.0                                     NaN  \n",
       "2    1.0                0.0                                     0.0  \n",
       "3    0.0                0.0                                     1.0  \n",
       "4    1.0                1.0                                     1.0  "
      ]
     },
     "execution_count": 265,
     "metadata": {},
     "output_type": "execute_result"
    }
   ],
   "source": [
    "# Se hace una lectura del csv y se le añaden los nombres de las columnas\n",
    "\n",
    "columns = [\"Class Name\", \"handicapped-infants\", \"water-project-cost-sharing\", \n",
    "           \"adoption-of-the-budget-resolution\", \"physician-fee-freeze\", \n",
    "           \"el-salvador-aid\", \"religious-groups-in-schools\", \"anti-satellite-test-ban\", \n",
    "           \"aid-to-nicaraguan-contras\", \"mx-missile\", \"immigration\", \"synfuels-corporation-cutback\",\n",
    "           \"education-spending\", \"superfund-right-to-sue\", \"crime\", \"duty-free-exports\",\n",
    "           \"export-administration-act-south-africa\"]\n",
    "data = pd.read_csv(\"data/house-votes-84.data\", delimiter=\",\", names=columns)\n",
    "\n",
    "\n",
    "df = pd.DataFrame(data, columns=columns)\n",
    "df = df.replace(\"y\", 1)\n",
    "df = df.replace(\"n\", 0)\n",
    "df = df.replace(\"?\", np.nan)\n",
    "\n",
    "# Se extraen de este dataframe las features\n",
    "_X = df.loc[:, df.columns != 'Class Name']\n",
    "\n",
    "# Se crea un vector con los targets\n",
    "_y = df[\"Class Name\"]\n",
    "\n",
    "print(\"El número de características es de: \"+ str(_X.shape[1]))\n",
    "df.head(5)"
   ]
  },
  {
   "cell_type": "markdown",
   "metadata": {},
   "source": [
    "## Seleccion de Modelo Naive Bayes"
   ]
  },
  {
   "cell_type": "markdown",
   "metadata": {},
   "source": [
    "Existen tres tipos de modelos Naive Bayes implementados en Scikit Learn:\n",
    "* Gaussian Naive Bayes:\n",
    "* Multinomial Naive Bayes: \n",
    "* Complement Naive Bayes: \n",
    "* Bernoulli Naive Bayes: \n",
    "\n",
    "A continuación se harán pruebas de los distintos modelos para obtener el modelo con mayor precisión. \n",
    "  \n",
    "Además, se harán varios tipos de prueba dado que en las variables de entrada hay ciertos datos que no existen, por lo que se plantean varias soluciones a probar para cada uno de estos modelos:\n",
    "* Uso de la media: Se utiliza la media de cada una de las columnas para asignar un valor a los datos faltantes.\n",
    "* Uso de la mediana: Se utiliza la mediana de cada una de las columnas para asignar un valor a los datos faltantes.\n",
    "* Uso de una constante: Se utiliza otra constante para asignar otra \"categoria\" a esa variable\n",
    "Para todo esto se hará uso de la librería **SimpleImputer**, la cual permite seguir estas estrategias."
   ]
  },
  {
   "cell_type": "markdown",
   "metadata": {},
   "source": [
    "Para ello, se crea una función que a partir de un modelo, un vector de características, las variables *target* y un número de folds, devuelve un *score* medio e imprime además la matriz de confusión asociada."
   ]
  },
  {
   "cell_type": "code",
   "execution_count": 266,
   "metadata": {},
   "outputs": [],
   "source": [
    "def score_and_confussion_matrix(nb, X, y, cv):\n",
    "    \"\"\"\n",
    "    Esta función imprime por pantalla el valor score medio\n",
    "    y la matriz de confusión generada mediante un cross-validation\n",
    "    de un modelo concreto.\n",
    "    Return: Score medio\n",
    "    \"\"\"\n",
    "    scores = cross_val_score(nb, X, y, cv=cv)\n",
    "    y_pred = cross_val_predict(nb, X, y, cv=cv)\n",
    "    confussion_matrix = pd.crosstab(y, y_pred)\n",
    "    \n",
    "    print(\"Accuracy: %0.3f (+/- %0.2f)\" % (scores.mean(), scores.std() * 2))\n",
    "    print(\"\\n\")\n",
    "    print(confussion_matrix.head())\n",
    "    return scores.mean()"
   ]
  },
  {
   "cell_type": "markdown",
   "metadata": {},
   "source": [
    "Se generan distintos vectores de característica en función de la forma en la que se decide \"rellenar\" los valores *NaN. Con esto, se aplica la función anterior con todos los modelos planteados anteriormente."
   ]
  },
  {
   "cell_type": "code",
   "execution_count": 267,
   "metadata": {},
   "outputs": [
    {
     "name": "stdout",
     "output_type": "stream",
     "text": [
      "Mean\n",
      "---------------------------------------\n",
      "Using Gaussian NB\n",
      "......................\n",
      "Accuracy: 0.940 (+/- 0.10)\n",
      "\n",
      "\n",
      "col_0       democrat  republican\n",
      "Class Name                      \n",
      "democrat         254          13\n",
      "republican        13         155\n",
      "\n",
      "\n",
      "Using Bernoulli NB\n",
      "......................\n",
      "Accuracy: 0.898 (+/- 0.15)\n",
      "\n",
      "\n",
      "col_0       democrat  republican\n",
      "Class Name                      \n",
      "democrat         237          30\n",
      "republican        14         154\n",
      "\n",
      "\n",
      "Using Multinomial NB\n",
      "......................\n",
      "Accuracy: 0.898 (+/- 0.14)\n",
      "\n",
      "\n",
      "col_0       democrat  republican\n",
      "Class Name                      \n",
      "democrat         238          29\n",
      "republican        15         153\n",
      "\n",
      "\n",
      "Using Complement NB\n",
      "......................\n",
      "Accuracy: 0.905 (+/- 0.13)\n",
      "\n",
      "\n",
      "col_0       democrat  republican\n",
      "Class Name                      \n",
      "democrat         237          30\n",
      "republican        11         157\n",
      "\n",
      "\n",
      "\n",
      "\n",
      "Median\n",
      "---------------------------------------\n",
      "Using Gaussian NB\n",
      "......................\n",
      "Accuracy: 0.924 (+/- 0.14)\n",
      "\n",
      "\n",
      "col_0       democrat  republican\n",
      "Class Name                      \n",
      "democrat         246          21\n",
      "republican        12         156\n",
      "\n",
      "\n",
      "Using Bernoulli NB\n",
      "......................\n",
      "Accuracy: 0.901 (+/- 0.15)\n",
      "\n",
      "\n",
      "col_0       democrat  republican\n",
      "Class Name                      \n",
      "democrat         238          29\n",
      "republican        14         154\n",
      "\n",
      "\n",
      "Using Multinomial NB\n",
      "......................\n",
      "Accuracy: 0.901 (+/- 0.13)\n",
      "\n",
      "\n",
      "col_0       democrat  republican\n",
      "Class Name                      \n",
      "democrat         238          29\n",
      "republican        14         154\n",
      "\n",
      "\n",
      "Using Complement NB\n",
      "......................\n",
      "Accuracy: 0.910 (+/- 0.14)\n",
      "\n",
      "\n",
      "col_0       democrat  republican\n",
      "Class Name                      \n",
      "democrat         237          30\n",
      "republican         9         159\n",
      "\n",
      "\n",
      "\n",
      "\n",
      "Constant\n",
      "---------------------------------------\n",
      "Using Gaussian NB\n",
      "......................\n",
      "Accuracy: 0.933 (+/- 0.12)\n",
      "\n",
      "\n",
      "col_0       democrat  republican\n",
      "Class Name                      \n",
      "democrat         250          17\n",
      "republican        12         156\n",
      "\n",
      "\n",
      "Using Bernoulli NB\n",
      "......................\n",
      "Accuracy: 0.896 (+/- 0.14)\n",
      "\n",
      "\n",
      "col_0       democrat  republican\n",
      "Class Name                      \n",
      "democrat         237          30\n",
      "republican        15         153\n",
      "\n",
      "\n",
      "Using Multinomial NB\n",
      "......................\n",
      "Accuracy: 0.896 (+/- 0.14)\n",
      "\n",
      "\n",
      "col_0       democrat  republican\n",
      "Class Name                      \n",
      "democrat         237          30\n",
      "republican        15         153\n",
      "\n",
      "\n",
      "Using Complement NB\n",
      "......................\n",
      "Accuracy: 0.898 (+/- 0.12)\n",
      "\n",
      "\n",
      "col_0       democrat  republican\n",
      "Class Name                      \n",
      "democrat         236          31\n",
      "republican        13         155\n",
      "\n",
      "\n",
      "\n",
      "\n"
     ]
    }
   ],
   "source": [
    "X = _X\n",
    "y = _y\n",
    "# Se genera un vector de características con los valores NaN sustitidos por las medias\n",
    "imputer = SimpleImputer(missing_values=np.NAN, strategy='mean')\n",
    "X_mean = imputer.fit_transform(X)\n",
    "# Se genera un vector de características con los valores NaN sustitidos por las medianas\n",
    "imputer = SimpleImputer(missing_values=np.NAN, strategy='median')\n",
    "X_median = imputer.fit_transform(X)\n",
    "# Se genera un vector de características con los valores NaN sustitidos por una constante\n",
    "imputer = SimpleImputer(missing_values=np.NAN, strategy='constant')\n",
    "X_constant = imputer.fit_transform(X)\n",
    "\n",
    "# Se crea un array con todos los vectores anteriores para iterar sobre ellos\n",
    "X_all = [X_mean, X_median, X_constant]\n",
    "fillnan_type = [\"Mean\", \"Median\", \"Constant\"]\n",
    "i=0\n",
    "\n",
    "# Se crean una variables para identificar el mejor modelo\n",
    "best_model = \"\"\n",
    "best_accuracy = 0\n",
    "best_fillna_type = \"\"\n",
    "\n",
    "\"\"\"\n",
    " Se itera sobre los distintos modelos llamando a la función\n",
    "creada anteriormente para obtener los distintos scores y\n",
    "obtener el modelo con mayor score\n",
    "\"\"\"\n",
    "for X in X_all:\n",
    "    print(fillnan_type[i])\n",
    "    print(\"---------------------------------------\")\n",
    "    print(\"Using Gaussian NB\")\n",
    "    print(\"......................\")\n",
    "    nb = GaussianNB()\n",
    "    score = score_and_confussion_matrix(nb, X, y, 10)\n",
    "    if score > best_accuracy:\n",
    "        best_accuracy = score\n",
    "        best_fillna_type = fillnan_type[i]\n",
    "        best_model = \"GaussianNB\"\n",
    "        \n",
    "    print(\"\\n\")\n",
    "    print(\"Using Bernoulli NB\")\n",
    "    print(\"......................\")\n",
    "    nb = BernoulliNB()\n",
    "    score = score_and_confussion_matrix(nb, X, y, 10)\n",
    "    if score > best_accuracy:\n",
    "        best_accuracy = score\n",
    "        best_fillna_type = fillnan_type[i]\n",
    "        best_model = \"BernoulliNB\"\n",
    "\n",
    "    print(\"\\n\")\n",
    "    print(\"Using Multinomial NB\")\n",
    "    print(\"......................\")\n",
    "    nb = MultinomialNB()\n",
    "    score = score_and_confussion_matrix(nb, X, y, 10)\n",
    "    if score > best_accuracy:\n",
    "        best_accuracy = score\n",
    "        best_fillna_type = fillnan_type[i]\n",
    "        best_model = \"MultinomialNB\"\n",
    "\n",
    "    print(\"\\n\")\n",
    "    print(\"Using Complement NB\")\n",
    "    print(\"......................\")\n",
    "    nb = ComplementNB()\n",
    "    score_and_confussion_matrix(nb, X, y, 10)\n",
    "    print(\"\\n\")\n",
    "    print(\"\\n\")\n",
    "    i+= 1"
   ]
  },
  {
   "cell_type": "markdown",
   "metadata": {},
   "source": [
    "A continuación, a partir de las variables creadas anteriormente, se imprime el modelo seleccionado con una mejor precisión y el tipo de \"relleno\" de *NaN* seleccionado"
   ]
  },
  {
   "cell_type": "code",
   "execution_count": 268,
   "metadata": {},
   "outputs": [
    {
     "name": "stdout",
     "output_type": "stream",
     "text": [
      "--------Summary--------\n",
      "Best FillNaN: Mean\n",
      "Best Model: GaussianNB\n",
      "Score: 0.94\n"
     ]
    }
   ],
   "source": [
    "print(\"--------Summary--------\")\n",
    "print(\"Best FillNaN: \" + best_fillna_type)\n",
    "print(\"Best Model: \" + best_model)\n",
    "print(\"Score: \" + str(round(best_accuracy, 3)))"
   ]
  },
  {
   "cell_type": "markdown",
   "metadata": {},
   "source": [
    "El modelo seleccionado es un **GaussianNB**, rellenando los *NaN* mediante el uso de **la media**, teniendo un esto una **precisión del 94%**."
   ]
  },
  {
   "cell_type": "markdown",
   "metadata": {},
   "source": [
    "## Reducción de la dimensionalidad"
   ]
  },
  {
   "cell_type": "markdown",
   "metadata": {},
   "source": [
    "Los modelos anteriores han sido creados usando todas las características del dataset.En ocasiones, pueden existir correlaciones entre distintas variables lo que puede dar lugar a peores modelos.  \n",
    "  \n",
    "Debido a esto, se decide utilizar un algoritmo de **eliminación de características**, en este caso se ha usado el **RFE**.  \n",
    "Mediante el uso de un **Cross Validation**, se comprueba cuál es el **numero de características es el más óptimo** para este modelo.  \n",
    "\n",
    "Para ello, se muestra el score del modelo aplicando el distinto número de características en una gráfica. El punto más alto, determina el mejor *score* asociado a un número de características en particular."
   ]
  },
  {
   "cell_type": "code",
   "execution_count": 269,
   "metadata": {},
   "outputs": [
    {
     "name": "stdout",
     "output_type": "stream",
     "text": [
      "El número óptimo de características es : 1\n"
     ]
    },
    {
     "data": {
      "image/png": "[encoded data removed]",
      "text/plain": [
       "<Figure size 432x288 with 1 Axes>"
      ]
     },
     "metadata": {
      "needs_background": "light"
     },
     "output_type": "display_data"
    }
   ],
   "source": [
    "X = _X\n",
    "y = _y\n",
    "\n",
    "imputer = SimpleImputer(missing_values=np.NAN, strategy='constant')\n",
    "X = imputer.fit_transform(X)\n",
    "# Se crea un RFE (Recursive feature elimination) con un Cross Validation (de 10 Folds)\n",
    "svc = SVC(kernel=\"linear\")\n",
    "rfecv = RFECV(estimator=svc, step=1, cv=StratifiedKFold(10),\n",
    "              scoring='accuracy')\n",
    "selector = rfecv.fit(X, y)\n",
    "\n",
    "# Mediante el método n_features_ se obtiene el número de características\n",
    "print(\"El número óptimo de características es : %d\" % rfecv.n_features_)\n",
    "\n",
    "\n",
    "#Se crea un plot donde se puede observar el score en función de estas características\n",
    "plt.figure()\n",
    "plt.title(\"Nº Características vs Score\")\n",
    "plt.xlabel(\"Número de características seleccionadas\")\n",
    "plt.ylabel(\"Cross validation score\")\n",
    "plt.plot(range(1, len(rfecv.grid_scores_) + 1), rfecv.grid_scores_)\n",
    "plt.show()"
   ]
  },
  {
   "cell_type": "markdown",
   "metadata": {},
   "source": [
    "El **número de características** elegidas es **1** dado que tiene un mayor *score*  \n",
    "\n",
    "A continuación se seleccionan las columnas elegidas.  \n",
    "Para ello, se seleccionan las variables cuyo parámetro *.support_* este seteado a *True*. Estas son las seleccionadas para el modelo.  \n",
    "Con todo ello, se ejecuta la función creada anteriormente para identificar el score medio y la matriz de confusión asociada"
   ]
  },
  {
   "cell_type": "code",
   "execution_count": 270,
   "metadata": {},
   "outputs": [
    {
     "name": "stdout",
     "output_type": "stream",
     "text": [
      "Columnas seleccionadas para el modelo: [['physician-fee-freeze']]\n",
      "\n",
      "\n",
      "Accuracy: 0.956 (+/- 0.10)\n",
      "\n",
      "\n",
      "col_0       democrat  republican\n",
      "Class Name                      \n",
      "democrat         253          14\n",
      "republican         5         163\n"
     ]
    }
   ],
   "source": [
    "# Se obtienen los índices para cuando la columna ha sido elegida (True)\n",
    "index_arr = np.where(selector.support_==True)\n",
    "# Se obtienen los nombres (valores) de las columnas asociados a esos índices\n",
    "features = np.take(_X.columns.values.tolist(), index_arr)\n",
    "print(\"Columnas seleccionadas para el modelo: \" + str(features))\n",
    "print(\"\\n\")\n",
    "imputer = SimpleImputer(missing_values=np.NAN, strategy='constant')\n",
    "X = imputer.fit_transform(_X[features[0]])\n",
    "nb = GaussianNB()\n",
    "score = score_and_confussion_matrix(nb, X, y, 10)"
   ]
  },
  {
   "cell_type": "markdown",
   "metadata": {},
   "source": [
    "Mediante un modelo **GaussianNB**, rellenando los *NaN* mediante el uso de **la media** y usando únicamente **1 característica**, se consigue una **precisión del 95.6%**, mejorando la precisión obtenida con el uso de todas las características del dataset.  \n",
    "Esto además de implicar una **mejora en la precisión del modelo**, también implica una **mejora de la eficiencia** y velocidad con el que se genera éste al hacer uso de un menor número de características para realizar la predicción."
   ]
  },
  {
   "cell_type": "markdown",
   "metadata": {},
   "source": [
    "Además, se obtiene la **matriz de confusión** para identificar las distintas métricas a evaluar: "
   ]
  },
  {
   "cell_type": "code",
   "execution_count": 271,
   "metadata": {},
   "outputs": [
    {
     "data": {
      "text/plain": [
       "Text(0.5, 0, 'False Positive Rate')"
      ]
     },
     "execution_count": 271,
     "metadata": {},
     "output_type": "execute_result"
    },
    {
     "data": {
      "image/png": "[encoded data removed]",
      "text/plain": [
       "<Figure size 432x288 with 1 Axes>"
      ]
     },
     "metadata": {
      "needs_background": "light"
     },
     "output_type": "display_data"
    }
   ],
   "source": [
    "imputer = SimpleImputer(missing_values=np.NAN, strategy='constant')\n",
    "X = imputer.fit_transform(_X[features[0]])\n",
    "nb = GaussianNB()\n",
    "y_pred = cross_val_predict(nb, X, y, cv=10)\n",
    "y_pred = np.where(y_pred==\"democrat\", 1, 0)\n",
    "y = np.where(y==\"democrat\", 1, 0)\n",
    "\n",
    "false_positive_rate, true_positive_rate, thresholds = roc_curve(y, y_pred)\n",
    "roc_auc = auc(false_positive_rate, true_positive_rate)\n",
    " # Plotting\n",
    "plt.title('ROC')\n",
    "plt.plot(false_positive_rate, true_positive_rate)\n",
    "plt.ylabel('True Positive Rate')\n",
    "plt.xlabel('False Positive Rate')"
   ]
  },
  {
   "cell_type": "code",
   "execution_count": null,
   "metadata": {},
   "outputs": [],
   "source": []
  }
 ],
 "metadata": {
  "kernelspec": {
   "display_name": "Python 3",
   "language": "python",
   "name": "python3"
  },
  "language_info": {
   "codemirror_mode": {
    "name": "ipython",
    "version": 3
   },
   "file_extension": ".py",
   "mimetype": "text/x-python",
   "name": "python",
   "nbconvert_exporter": "python",
   "pygments_lexer": "ipython3",
   "version": "3.6.6"
  }
 },
 "nbformat": 4,
 "nbformat_minor": 2
}
